{
 "cells": [
  {
   "cell_type": "code",
   "execution_count": 1,
   "metadata": {},
   "outputs": [],
   "source": [
    "## load and convert model "
   ]
  },
  {
   "cell_type": "code",
   "execution_count": 6,
   "metadata": {},
   "outputs": [],
   "source": [
    "import coremltools \n",
    "\n",
    "# load model \n",
    "cml = coremltools.models.MLModel('./ppn.mlmodel') \n",
    "\n"
   ]
  },
  {
   "cell_type": "markdown",
   "metadata": {},
   "source": [
    "## Preprocess image"
   ]
  },
  {
   "cell_type": "code",
   "execution_count": 5,
   "metadata": {},
   "outputs": [
    {
     "name": "stdout",
     "output_type": "stream",
     "text": [
      "\u001b[01;31m\u001b[KPATH\u001b[m\u001b[K=/Library/Frameworks/Python.framework/Versions/3.6/bin:/Users/liuxingyu/.virtualenvs/coreML/bin:/Library/Frameworks/Python.framework/Versions/3.6/bin:/usr/local/Cellar/openssl/1.0.2p/bin/openssl:/Users/liuxingyu/Python/Wraps:/Users/liuxingyu/.rbenv/shims:/Users/liuxingyu/bin:/usr/local/bin:/usr/bin:/bin:/usr/sbin:/sbin:/opt/X11/bin\n",
      "PYTHON\u001b[01;31m\u001b[KPATH\u001b[m\u001b[K=/Users/liuxingyu/Python/Wraps:\n",
      "\u001b[01;31m\u001b[KPATH\u001b[m\u001b[K=/Library/Frameworks/Python.framework/Versions/3.6/bin:/Users/liuxingyu/.virtualenvs/coreML/bin:/Library/Frameworks/Python.framework/Versions/3.6/bin:/usr/local/Cellar/openssl/1.0.2p/bin/openssl:/Users/liuxingyu/Python/Wraps:/Users/liuxingyu/.rbenv/shims:/Users/liuxingyu/bin:/usr/local/bin:/usr/bin:/bin:/usr/sbin:/sbin:/opt/X11/bin\n",
      "PYTHON\u001b[01;31m\u001b[KPATH\u001b[m\u001b[K=/Users/liuxingyu/Python/Wraps:\n"
     ]
    }
   ],
   "source": [
    "!env|grep PATH \n",
    "import sys \n",
    "sys.path.insert(0,'/Users/liuxingyu/.virtualenvs/coreML/lib/python3.6/site-packages') \n",
    "\n",
    "!env|grep PATH "
   ]
  },
  {
   "cell_type": "code",
   "execution_count": null,
   "metadata": {},
   "outputs": [],
   "source": []
  },
  {
   "cell_type": "code",
   "execution_count": 12,
   "metadata": {},
   "outputs": [],
   "source": [
    "import numpy as np \n",
    "from IPython.display import display \n",
    "from PIL import Image\n",
    "import PIL\n",
    "import cv2\n",
    "\n",
    "# 读取图片数据\n",
    "img_file = '/Users/liuxingyu/Pictures/pose'\n",
    "import os\n",
    "imgs = os.walk(img_file)\n",
    "imgs = list(imgs)[0][-1]\n",
    "\n",
    "\n",
    "def resize(img, size, interpolation=PIL.Image.BILINEAR):\n",
    "    img = img.transpose((1, 2, 0))\n",
    "    if interpolation == PIL.Image.NEAREST:\n",
    "        cv_interpolation = cv2.INTER_NEAREST\n",
    "    elif interpolation == PIL.Image.BILINEAR:\n",
    "        cv_interpolation = cv2.INTER_LINEAR\n",
    "    elif interpolation == PIL.Image.BICUBIC:\n",
    "        cv_interpolation = cv2.INTER_CUBIC\n",
    "    elif interpolation == PIL.Image.LANCZOS:\n",
    "        cv_interpolation = cv2.INTER_LANCZOS4\n",
    "    H, W = size\n",
    "    img = cv2.resize(img, dsize=(W, H), interpolation=cv_interpolation)\n",
    "\n",
    "    # If input is a grayscale image, cv2 returns a two-dimentional array.\n",
    "    if len(img.shape) == 2:\n",
    "        img = img[:, :, np.newaxis]\n",
    "    return img.transpose((2, 0, 1))\n",
    "\n",
    "## 图片预处理\n",
    "img1 = os.path.join(img_file, imgs[2]) \n",
    "dis_img = Image.open(img1)\n",
    "# display(dis_img) ### display image\n",
    "f = Image.open(img1)\n",
    "img = f.convert('RGB')\n",
    "img = np.asarray(img, dtype=np.float32) \n",
    "img = img.transpose((2, 0, 1))\n",
    "image = resize(img, (224, 224))"
   ]
  },
  {
   "cell_type": "code",
   "execution_count": 16,
   "metadata": {},
   "outputs": [
    {
     "data": {
      "text/plain": [
       "'Input_0'"
      ]
     },
     "execution_count": 16,
     "metadata": {},
     "output_type": "execute_result"
    },
    {
     "data": {
      "text/plain": [
       "'sigmoid0'"
      ]
     },
     "execution_count": 16,
     "metadata": {},
     "output_type": "execute_result"
    }
   ],
   "source": [
    "input_name = cml.get_spec().description.input[-1].name\n",
    "output_name = cml.get_spec().description.output[0].name\n",
    "input_name \n",
    "output_name\n",
    "\n",
    "mg_out = cml.predict({input_name: image})[output_name]"
   ]
  },
  {
   "cell_type": "code",
   "execution_count": 18,
   "metadata": {},
   "outputs": [
    {
     "data": {
      "text/plain": [
       "(1, 1, 440, 7, 7)"
      ]
     },
     "execution_count": 18,
     "metadata": {},
     "output_type": "execute_result"
    }
   ],
   "source": [
    "mg_out.shape"
   ]
  },
  {
   "cell_type": "code",
   "execution_count": null,
   "metadata": {},
   "outputs": [],
   "source": []
  }
 ],
 "metadata": {
  "kernelspec": {
   "display_name": "coreML",
   "language": "python",
   "name": "coreml"
  },
  "language_info": {
   "codemirror_mode": {
    "name": "ipython",
    "version": 3
   },
   "file_extension": ".py",
   "mimetype": "text/x-python",
   "name": "python",
   "nbconvert_exporter": "python",
   "pygments_lexer": "ipython3",
   "version": "3.6.1"
  }
 },
 "nbformat": 4,
 "nbformat_minor": 2
}
